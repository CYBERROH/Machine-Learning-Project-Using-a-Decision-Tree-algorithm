{
 "cells": [
  {
   "cell_type": "code",
   "execution_count": null,
   "id": "5f66d9d3-6b91-452e-a61a-4362c30fd1fd",
   "metadata": {},
   "outputs": [],
   "source": []
  }
 ],
 "metadata": {
  "kernelspec": {
   "display_name": "",
   "name": ""
  },
  "language_info": {
   "name": ""
  }
 },
 "nbformat": 4,
 "nbformat_minor": 5
}
